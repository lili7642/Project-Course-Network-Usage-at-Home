{
 "cells": [
  {
   "cell_type": "code",
   "execution_count": 1,
   "metadata": {},
   "outputs": [],
   "source": [
    "import os\n",
    "import pandas as pd\n",
    "import numpy as np\n",
    "\n",
    "import torch\n",
    "import torch.nn as nn\n",
    "import torch.optim as optim\n",
    "\n",
    "from modelClass import Net\n",
    "\n",
    "import pickle"
   ]
  },
  {
   "cell_type": "code",
   "execution_count": 2,
   "metadata": {},
   "outputs": [],
   "source": [
    "filePath =  \"../../project_course_data/\""
   ]
  },
  {
   "cell_type": "markdown",
   "metadata": {},
   "source": [
    "### READ DATA"
   ]
  },
  {
   "cell_type": "code",
   "execution_count": 4,
   "metadata": {},
   "outputs": [],
   "source": [
    "dataPath = \"pilottest.txt\"\n",
    "\n",
    "with open(filePath + dataPath, \"r\") as f:\n",
    "    content = f.read().replace(\"->\", \" \").replace(\" K \", \"K \").replace(\" M \", \"M \").replace(\" G \", \"G \")"
   ]
  },
  {
   "cell_type": "code",
   "execution_count": 5,
   "metadata": {},
   "outputs": [],
   "source": [
    "import io"
   ]
  },
  {
   "cell_type": "code",
   "execution_count": 6,
   "metadata": {},
   "outputs": [],
   "source": [
    "csvStringIO = io.StringIO(content)\n",
    "columnNames = [\"Datetime\", \"Time\", \"Duration\",  \"Proto\", \"Src IP Addr:Port\", \"Dst IP Addr:Port\", \"Packets\", \"Bytes\", \"Flows\"]\n",
    "\n",
    "# dateparse = lambda x: datetime.strptime(x, '%Y-%m-%d %H:%M:%S.%f')\n",
    "\n",
    "data = pd.read_csv(csvStringIO, sep = '\\s+', names = columnNames, header = None, usecols=range(len(columnNames)), parse_dates=True, engine = \"python\")\n",
    "data = data.iloc[1:-4] #Removes the summary lines and col names\n",
    "\n",
    "data[\"Datetime\"] += \" \" + data[\"Time\"]\n",
    "data = data.drop(columns = [\"Time\"])\n",
    "\n",
    "data[\"Id\"] = data.reset_index(drop = True).index\n",
    "\n"
   ]
  },
  {
   "cell_type": "markdown",
   "metadata": {},
   "source": [
    "#### Debug func"
   ]
  },
  {
   "cell_type": "code",
   "execution_count": 7,
   "metadata": {},
   "outputs": [],
   "source": [
    "def printRow(df, id):\n",
    "    try:\n",
    "        row = df[df[\"Id\"] == id]\n",
    "        for col, val in row.iloc[0].items():\n",
    "            print(f\"{col}: {val}\")\n",
    "    except KeyError:\n",
    "        print(f\"Row with id {id} not found in DataFrame.\")"
   ]
  },
  {
   "cell_type": "code",
   "execution_count": 8,
   "metadata": {},
   "outputs": [
    {
     "name": "stdout",
     "output_type": "stream",
     "text": [
      "Datetime: 2023-12-04 20:17:14.325\n",
      "Duration: 0.126\n",
      "Proto: UDP\n",
      "Src IP Addr:Port: 192.168.8.195:53709\n",
      "Dst IP Addr:Port: 74.125.111.73:443\n",
      "Packets: 100\n",
      "Bytes: 6100\n",
      "Flows: 1\n",
      "Id: 332\n"
     ]
    }
   ],
   "source": [
    "id = 332\n",
    "printRow(data, id)"
   ]
  },
  {
   "cell_type": "markdown",
   "metadata": {},
   "source": [
    "### Data fixing procecssing etc"
   ]
  },
  {
   "cell_type": "code",
   "execution_count": 10,
   "metadata": {},
   "outputs": [],
   "source": [
    " # Convert the datetime column to pandas datetime format\n",
    "data['Datetime'] = pd.to_datetime(data['Datetime'])\n",
    "\n",
    "# Sort the DataFrame by the datetime column\n",
    "data = data.sort_values(by='Datetime')\n",
    "\n",
    "# Split IP address and port to two columns, and drops the old column\n",
    "data[['Src IP Addr', 'Src Port']] = data['Src IP Addr:Port'].str.split(':', n=1, expand=True)\n",
    "data[['Dst IP Addr', 'Dst Port']] = data['Dst IP Addr:Port'].str.split(':', n=1, expand=True)\n",
    "data = data.drop(columns=[\"Src IP Addr:Port\", \"Dst IP Addr:Port\"])\n",
    "\n",
    "\n",
    "# Changes Duration column to float\n",
    "data['Duration'] = data['Duration'].astype(float)\n",
    "# Drop outliers\n",
    "data = data.drop(data[data.Duration > 10000].index)\n",
    "\n",
    "# Find clients IP address\n",
    "client = data['Src IP Addr'].value_counts().idxmax().split('.')\n",
    "client = '.'.join(client[:3])\n",
    "\n",
    "# Initialize 'Host IP'-column from 'Src Ip Addr'\n",
    "data['Host IP'] = data['Src IP Addr']\n",
    "data['Client IP'] = data['Dst IP Addr']\n",
    "\n",
    "# Removes all internal flows\n",
    "# If the destination IP is not equal to the clients IP, adds it to 'Host IP'-column\n",
    "for index, row in data.iterrows():\n",
    "    if client in row['Dst IP Addr'] and client in row['Src IP Addr']:\n",
    "        data.drop(index, inplace=True)\n",
    "    elif client not in row['Dst IP Addr']:\n",
    "        data.at[index, 'Host IP'] = row['Dst IP Addr']\n",
    "        data.at[index, 'Client IP'] = row['Src IP Addr']"
   ]
  },
  {
   "cell_type": "markdown",
   "metadata": {},
   "source": [
    "#### Fix bytes"
   ]
  },
  {
   "cell_type": "code",
   "execution_count": 11,
   "metadata": {},
   "outputs": [],
   "source": [
    "def convert_bytes(value):\n",
    "    value = str(value).upper()\n",
    "    multipliers = {'K': 1000, 'M': 1000**2, 'G': 1000**3}\n",
    "\n",
    "    if value[-1] in multipliers:\n",
    "        return int(float(value[0:-1]) * multipliers[value[-1]])\n",
    "    else:\n",
    "        return int(value)\n",
    "\n",
    "# Apply the conversion function to the 'Bytes' column\n",
    "data['Bytes'] = data['Bytes'].apply(convert_bytes)\n",
    "data['Packets'] = data['Packets'].apply(convert_bytes)"
   ]
  },
  {
   "cell_type": "code",
   "execution_count": 12,
   "metadata": {},
   "outputs": [
    {
     "name": "stdout",
     "output_type": "stream",
     "text": [
      "Datetime: 2023-12-04 20:17:14.325000\n",
      "Duration: 0.126\n",
      "Proto: UDP\n",
      "Packets: 100\n",
      "Bytes: 6100\n",
      "Flows: 1\n",
      "Id: 332\n",
      "Src IP Addr: 192.168.8.195\n",
      "Src Port: 53709\n",
      "Dst IP Addr: 74.125.111.73\n",
      "Dst Port: 443\n",
      "Host IP: 74.125.111.73\n",
      "Client IP: 192.168.8.195\n"
     ]
    }
   ],
   "source": [
    "id = 332\n",
    "printRow(data, id)"
   ]
  },
  {
   "cell_type": "markdown",
   "metadata": {},
   "source": [
    "### READ PREDICTIONS"
   ]
  },
  {
   "cell_type": "code",
   "execution_count": 38,
   "metadata": {},
   "outputs": [
    {
     "name": "stdout",
     "output_type": "stream",
     "text": [
      "884\n",
      "[1, 1, 1, 1, 1, 1, 1, 1, 1, 1, 1, 1, 1, 1, 1, 1, 1, 1, 1, 1, 1, 1, 1, 1, 1, 1, 1, 1, 1, 1, 1, 1, 1, 1, 1, 1, 1, 1, 1, 1, 1, 1, 1, 1, 1, 1, 1, 1, 1, 1, 1, 1, 1, 1, 1, 1, 1, 1, 1, 1, 1, 1, 1, 1, 1, 1, 1, 1, 1, 1, 1, 1, 1, 1, 1, 1, 1, 1, 1, 1, 1, 1, 1, 1, 1, 1, 1, 1, 1, 1, 1, 1, 1, 1, 1, 1, 1, 1, 1, 1, 1, 1, 1, 1, 1, 1, 1, 1, 1, 1, 1, 1, 1, 1, 1, 1, 1, 1, 1, 1, 1, 1, 1, 1, 1, 1, 1, 1, 1, 1, 1, 1, 1, 1, 1, 1, 1, 1, 1, 1, 1, 1, 1, 1, 1, 1, 1, 1, 1, 1, 1, 1, 1, 1, 1, 1, 1, 1, 1, 1, 1, 1, 1, 1, 1, 1, 1, 1, 1, 1, 1, 1, 1, 1, 1, 1, 1, 1, 1, 1, 1, 1, 1, 1, 1, 1, 1, 1, 1, 1, 1, 1, 1, 1, 1, 1, 1, 1, 1, 1, 1, 1, 1, 1, 1, 1, 1, 1, 1, 1, 1, 1, 1, 1, 1, 1, 1, 1, 1, 1, 1, 1, 1, 1, 1, 1, 1, 1, 1, 1, 1, 1, 1, 1, 1, 1, 1, 1, 1, 1, 1, 1, 1, 1, 1, 1, 1, 1, 1, 1, 1, 1, 1, 1, 1, 1, 1, 1, 1, 1, 1, 1, 1, 1, 1, 1, 1, 1, 1, 1, 1, 1, 1, 1, 1, 1, 1, 1, 1, 1, 1, 1, 1, 1, 1, 1, 1, 1, 1, 1, 1, 1, 1, 1, 1, 1, 1, 1, 1, 1, 1, 1, 1, 1, 1, 1, 1, 1, 1, 1, 1, 1, 1, 1, 1, 1, 1, 1, 1, 1, 1, 1, 1, 1, 1, 1, 1, 1, 1, 1, 1, 1, 1, 1, 1, 1, 1, 1, 1, 1, 1, 1, 1, 1, 1, 1, 1, 1, 1, 1, 1, 1, 1, 1, 1, 1, 1, 1, 1, 1, 1, 1, 1, 1, 1, 1, 1, 1, 1, 1, 1, 1, 1, 1, 1, 1, 1, 1, 1, 1, 1, 1, 1, 1, 1, 1, 1, 1, 1, 1, 1, 1, 1, 1, 1, 1, 1, 1, 1, 1, 1, 1, 1, 1, 1, 1, 1, 1, 1, 1, 1, 1, 1, 1, 1, 1, 1, 1, 1, 1, 1, 1, 1, 1, 1, 1, 1, 1, 1, 1, 1, 1, 1, 1, 1, 1, 1, 1, 1, 1, 1, 1, 1, 1, 1, 1, 1, 1, 1, 1, 1, 1, 1, 1, 1, 1, 1, 1, 1, 1, 1, 1, 1, 1, 1, 1, 1, 1, 1, 1, 1, 1, 1, 1, 1, 1, 1, 1, 1, 1, 1, 1, 1, 1, 1, 1, 1, 1, 1, 1, 1, 1, 1, 1, 1, 1, 1, 1, 1, 1, 1, 1, 1, 1, 1, 1, 1, 1, 1, 1, 1, 1, 1, 1, 1, 1, 1, 1, 1, 1, 1, 1, 1, 1, 1, 1, 1, 1, 1, 1, 1, 1, 1, 1, 1, 1, 1, 1, 1, 1, 1, 1, 1, 1, 1, 1, 1, 1, 1, 1, 1, 1, 1, 1, 1, 1, 1, 1, 1, 1, 1, 1, 1, 1, 1, 1, 1, 1, 1, 1, 1, 1, 1, 1, 1, 1, 1, 1, 1, 1, 1, 1, 1, 1, 1, 1, 1, 1, 1, 1, 1, 1, 1, 1, 1, 1, 1, 1, 1, 1, 1, 1, 1, 1, 1, 1, 1, 1, 1, 1, 1, 1, 1, 1, 1, 1, 1, 1, 1, 1, 1, 1, 1, 1, 1, 1, 1, 1, 1, 1, 1, 1, 1, 1, 1, 1, 1, 1, 1, 1, 1, 1, 1, 1, 1, 1, 1, 1, 1, 1, 1, 1, 1, 1, 1, 1, 1, 1, 1, 1, 1, 1, 1, 1, 1, 1, 1, 1, 1, 1, 1, 1, 1, 1, 1, 1, 1, 1, 1, 1, 1, 1, 1, 1, 1, 1, 1, 1, 1, 1, 1, 1, 1, 1, 1, 1, 1, 1, 1, 1, 1, 1, 1, 1, 1, 1, 1, 1, 1, 1, 1, 1, 1, 1, 1, 1, 1, 1, 1, 1, 1, 1, 1, 1, 1, 1, 1, 1, 1, 1, 1, 1, 1, 1, 1, 1, 1, 1, 1, 1, 1, 1, 1, 1, 1, 1, 1, 1, 1, 1, 1, 1, 1, 1, 1, 1, 1, 1, 1, 1, 1, 1, 1, 1, 1, 1, 1, 1, 1, 1, 1, 1, 1, 1, 1, 1, 1, 1, 1, 1, 1, 1, 1, 1, 1, 1, 1, 1, 1, 1, 1, 1, 1, 1, 1, 1, 1, 1, 1, 1, 1, 1, 1, 1, 1, 1, 1, 1, 1, 1, 1, 1, 1, 1, 1, 1, 1, 1, 1, 1, 1, 1, 1, 1, 1, 1, 1, 1, 1, 1, 1, 1, 1, 1, 1, 1, 1, 1, 1, 1, 1, 1, 1, 1, 1, 1, 1, 1, 1, 1, 1, 1, 1, 1, 1, 1, 1, 1, 1, 1, 1, 1, 1, 1, 1, 1, 1, 1, 1, 1, 1, 1, 1, 1, 1, 1, 1, 1, 1, 1, 1, 1, 1, 1]\n"
     ]
    }
   ],
   "source": [
    "##### REPLACE WITH READING PRED FILE\n",
    "import random\n",
    "# REMOVE --------------------------------------\n",
    "# creating fake preds \n",
    "posPreds = list(range(21))\n",
    "fakePreds = []\n",
    "for i in range(len(data)):\n",
    "    # fakePreds.append(random.choice(posPreds))\n",
    "    fakePreds.append(1)\n",
    "\n",
    "print(len(fakePreds))\n",
    "print(fakePreds)\n",
    "# ^^^^^^ --------------------------------------\n",
    "\n"
   ]
  },
  {
   "cell_type": "markdown",
   "metadata": {},
   "source": [
    "#### calc size of preds"
   ]
  },
  {
   "cell_type": "code",
   "execution_count": 39,
   "metadata": {},
   "outputs": [
    {
     "name": "stdout",
     "output_type": "stream",
     "text": [
      "Id: 332\n",
      "Bytes: 6100\n",
      "Prediction: 1\n"
     ]
    }
   ],
   "source": [
    "data[\"Prediction\"] = fakePreds\n",
    "\n",
    "selectedData = data[[\"Id\", \"Bytes\", \"Prediction\"]]\n",
    "\n",
    "id = 332\n",
    "printRow(selectedData, id)"
   ]
  },
  {
   "cell_type": "code",
   "execution_count": 40,
   "metadata": {},
   "outputs": [
    {
     "name": "stdout",
     "output_type": "stream",
     "text": [
      "[[], [], [], [], [], [], [], [], [], [], [], [], [], [], [], [], [], [], [], [], []]\n",
      "[0, 6295973298, 0, 0, 0, 0, 0, 0, 0, 0, 0, 0, 0, 0, 0, 0, 0, 0, 0, 0, 0]\n"
     ]
    }
   ],
   "source": [
    "## list of lists of bytes\n",
    "\n",
    "bytesLOL = [[] for i in range(21)]\n",
    "print(bytesLOL)\n",
    "\n",
    "for idx, row in selectedData.iterrows():\n",
    "    bytesLOL[row[\"Prediction\"]].append(row[\"Bytes\"])\n",
    "\n",
    "# list of summarized bytes for each class\n",
    "bytesSumList = []\n",
    "\n",
    "for lst in bytesLOL:\n",
    "    bytesSumList.append(sum(lst))\n",
    "print(bytesSumList)"
   ]
  },
  {
   "cell_type": "markdown",
   "metadata": {},
   "source": [
    "### Print summaries"
   ]
  },
  {
   "cell_type": "code",
   "execution_count": 41,
   "metadata": {},
   "outputs": [
    {
     "name": "stdout",
     "output_type": "stream",
     "text": [
      "LABELS AND CORRESPONDING NUMBER:\n",
      "0\tYoutube\n",
      "1\tNetflix\n",
      "2\tBrowsing/Shopping\n",
      "3\tTwitch TV\n",
      "4\tPrime Video\n",
      "5\tSVT Play\n",
      "6\tSpotify\n",
      "7\tFacebook\n",
      "8\tPlaystation\n",
      "9\tSoundcloud\n",
      "10\tDiscord\n",
      "11\tReddit\n",
      "12\tAmazon SHOP\n",
      "13\tGoogle Drive\n",
      "14\tSkype\n",
      "15\tDisney+\n",
      "16\tSteam Gaming\n",
      "17\tGmail\n",
      "18\tInstagram\n",
      "19\tOutlook Mail\n",
      "20\tX\n"
     ]
    }
   ],
   "source": [
    "# Load labels dictionary\n",
    "\n",
    "labelsDictPath = \"labelsDictionary.pkl\"\n",
    "\n",
    "with open(filePath + labelsDictPath, \"rb\") as pkl_f:\n",
    "    LABELS_DICT = pickle.load(pkl_f)\n",
    "\n",
    "print(\"LABELS AND CORRESPONDING NUMBER:\")\n",
    "for key,val in LABELS_DICT.items():\n",
    "    print(f\"{val}\\t{key}\")"
   ]
  },
  {
   "cell_type": "code",
   "execution_count": 42,
   "metadata": {},
   "outputs": [],
   "source": [
    "def label2num(label):\n",
    "    return(LABELS_DICT[label])\n",
    "def num2label(num):\n",
    "    return next((key for key, val in LABELS_DICT.items() if val == num), None)"
   ]
  },
  {
   "cell_type": "code",
   "execution_count": 43,
   "metadata": {},
   "outputs": [],
   "source": [
    "# Service to activity translation\n",
    "\n",
    "ACTIVITY_DICT = {\n",
    "    \"Youtube\":           \"Video streaming\",\n",
    "    \"Netflix\":           \"Video streaming\",\n",
    "    \"Browsing/Shopping\": \"Browsing/Shopping\",\n",
    "    \"Twitch TV\":         \"Video streaming\",\n",
    "    \"Prime Video\":       \"Video streaming\",\n",
    "    \"SVT Play\":          \"Video streaming\",\n",
    "    \"Spotify\":           \"Sound streaming\",\n",
    "    \"Facebook\":          \"Social media\",\n",
    "    \"Playstation\":       \"Gaming\",\n",
    "    \"Soundcloud\":        \"Sound streaming\",\n",
    "    \"Discord\":           \"Voice chat\",\n",
    "    \"Reddit\":            \"Social media\",\n",
    "    \"Amazon SHOP\":       \"Browsing/Shopping\",\n",
    "    \"Google Drive\":      \"Browsing/Shopping\",\n",
    "    \"Skype\":             \"Voice chat\",\n",
    "    \"Disney+\":           \"Video streaming\",\n",
    "    \"Steam Gaming\":      \"Gaming\",\n",
    "    \"Gmail\":             \"Browsing/Shopping\",\n",
    "    \"Instagram\":         \"Social media\",\n",
    "    \"Outlook Mail\":      \"Browsing/Shopping\",\n",
    "    \"X\":                 \"Social media\",\n",
    "}\n",
    "\n",
    "def service2activity(service):\n",
    "    return(ACTIVITY_DICT[service])"
   ]
  },
  {
   "cell_type": "code",
   "execution_count": 44,
   "metadata": {},
   "outputs": [
    {
     "name": "stdout",
     "output_type": "stream",
     "text": [
      "Netflix accounted for 100.0% of total bytes\n",
      "Youtube accounted for 0.0% of total bytes\n",
      "Browsing/Shopping accounted for 0.0% of total bytes\n",
      "Twitch TV accounted for 0.0% of total bytes\n",
      "Prime Video accounted for 0.0% of total bytes\n",
      "SVT Play accounted for 0.0% of total bytes\n",
      "Spotify accounted for 0.0% of total bytes\n",
      "Facebook accounted for 0.0% of total bytes\n",
      "Playstation accounted for 0.0% of total bytes\n",
      "Soundcloud accounted for 0.0% of total bytes\n",
      "Discord accounted for 0.0% of total bytes\n",
      "Reddit accounted for 0.0% of total bytes\n",
      "Amazon SHOP accounted for 0.0% of total bytes\n",
      "Google Drive accounted for 0.0% of total bytes\n",
      "Skype accounted for 0.0% of total bytes\n",
      "Disney+ accounted for 0.0% of total bytes\n",
      "Steam Gaming accounted for 0.0% of total bytes\n",
      "Gmail accounted for 0.0% of total bytes\n",
      "Instagram accounted for 0.0% of total bytes\n",
      "Outlook Mail accounted for 0.0% of total bytes\n",
      "X accounted for 0.0% of total bytes\n",
      "\n",
      "\n",
      "\n",
      "Video streaming accounted for 100.0% of total bytes\n",
      "Browsing/Shopping accounted for 0.0% of total bytes\n",
      "Sound streaming accounted for 0.0% of total bytes\n",
      "Social media accounted for 0.0% of total bytes\n",
      "Gaming accounted for 0.0% of total bytes\n",
      "Voice chat accounted for 0.0% of total bytes\n"
     ]
    }
   ],
   "source": [
    "serviceRatio = {}\n",
    "activityRatio = {}\n",
    "\n",
    "for idx in range(21):\n",
    "\n",
    "    service = num2label(idx)\n",
    "    activity = service2activity(service)\n",
    "\n",
    "    sz = bytesSumList[idx]\n",
    "    ratio = sz / sum(bytesSumList) * 100\n",
    "\n",
    "    serviceRatio[service] = ratio\n",
    "\n",
    "    activityRatio[activity] = activityRatio[activity] + ratio if activity in activityRatio else ratio\n",
    "  \n",
    "for service, ratio in sorted(serviceRatio.items(), key = lambda x: x[1], reverse=True):\n",
    "    print(f\"{service} accounted for {round(ratio,3)}% of total bytes\")\n",
    "\n",
    "print(\"\\n\\n\")\n",
    "\n",
    "for activity, ratio in sorted(activityRatio.items(), key = lambda x: x[1], reverse=True):\n",
    "    print(f\"{activity} accounted for {round(ratio,3)}% of total bytes\")"
   ]
  }
 ],
 "metadata": {
  "kernelspec": {
   "display_name": "Linusenv",
   "language": "python",
   "name": "python3"
  },
  "language_info": {
   "codemirror_mode": {
    "name": "ipython",
    "version": 3
   },
   "file_extension": ".py",
   "mimetype": "text/x-python",
   "name": "python",
   "nbconvert_exporter": "python",
   "pygments_lexer": "ipython3",
   "version": "3.9.7"
  }
 },
 "nbformat": 4,
 "nbformat_minor": 2
}
