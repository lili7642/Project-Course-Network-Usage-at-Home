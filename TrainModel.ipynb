{
 "cells": [
  {
   "cell_type": "code",
   "execution_count": 1,
   "metadata": {},
   "outputs": [],
   "source": [
    "import os\n",
    "import pandas as pd\n",
    "import matplotlib.pyplot as plt\n",
    "import numpy as np\n",
    "\n",
    "from sklearn.feature_extraction.text import CountVectorizer\n",
    "from sklearn.model_selection import train_test_split\n",
    "\n",
    "import torch\n",
    "import torch.nn as nn\n",
    "import torch.optim as optim\n"
   ]
  },
  {
   "cell_type": "markdown",
   "metadata": {},
   "source": [
    "### Read datafile"
   ]
  },
  {
   "cell_type": "code",
   "execution_count": 19,
   "metadata": {},
   "outputs": [],
   "source": [
    "filePath =  \"../../project_course_data/\"\n",
    "fileName = \"preprocessedData.csv\"\n",
    "\n",
    "data = pd.read_csv(filePath + fileName, sep=\"\\t\")"
   ]
  },
  {
   "cell_type": "markdown",
   "metadata": {},
   "source": [
    "### Function for debugging"
   ]
  },
  {
   "cell_type": "code",
   "execution_count": 18,
   "metadata": {},
   "outputs": [],
   "source": [
    "def printRow(df, id):\n",
    "    try:\n",
    "        row = df[df[\"Id\"] == id]\n",
    "        for col, val in row.iloc[0].items():\n",
    "            print(f\"{col}: {val}\")\n",
    "    except KeyError:\n",
    "        print(f\"Row with id {id} not found in DataFrame.\")"
   ]
  },
  {
   "cell_type": "code",
   "execution_count": 22,
   "metadata": {},
   "outputs": [
    {
     "name": "stdout",
     "output_type": "stream",
     "text": [
      "Row with id 2 not found in DataFrame.\n"
     ]
    }
   ],
   "source": [
    "id = 2\n",
    "printRow(data, id)"
   ]
  },
  {
   "cell_type": "markdown",
   "metadata": {},
   "source": [
    "### Drop uninteresting attributes"
   ]
  },
  {
   "cell_type": "code",
   "execution_count": 17,
   "metadata": {},
   "outputs": [
    {
     "name": "stdout",
     "output_type": "stream",
     "text": [
      "     Duration  Packets    Bytes  TCP  UDP  1900  27018  27025  27036  27043  \\\n",
      "0  180312.365     1200  49200.0    1    0     0      0      0      0      0   \n",
      "1  180312.365      400      3.0    1    0     0      0      0      0      0   \n",
      "2     135.108      100   4000.0    1    0     0      0      0      0      0   \n",
      "3     135.108      100   4600.0    1    0     0      0      0      0      0   \n",
      "4       0.000      100  97000.0    1    0     0      0      0      0      0   \n",
      "\n",
      "   27047  27051  27053  27057  27060  443  5228  80  1900.1  27018.1  27025.1  \\\n",
      "0      0      0      0      0      0    1     0   0       0        0        0   \n",
      "1      0      0      0      0      0    1     0   0       0        0        0   \n",
      "2      0      0      0      0      0    1     0   0       0        0        0   \n",
      "3      0      0      0      0      0    1     0   0       0        0        0   \n",
      "4      0      0      0      0      0    1     0   0       0        0        0   \n",
      "\n",
      "   27036.1  27043.1  27047.1  27051.1  27053.1  27057.1  27060.1  443.1  \\\n",
      "0        0        0        0        0        0        0        0      1   \n",
      "1        0        0        0        0        0        0        0      1   \n",
      "2        0        0        0        0        0        0        0      1   \n",
      "3        0        0        0        0        0        0        0      1   \n",
      "4        0        0        0        0        0        0        0      1   \n",
      "\n",
      "   5228.1  80.1  1drv  1e100  833aec  a104  a184  a2  a23  a95  \\\n",
      "0       0     0     0      0       0     0     0   0    0    0   \n",
      "1       0     0     0      0       0     0     0   0    0    0   \n",
      "2       0     0     0      0       0     0     0   0    0    0   \n",
      "3       0     0     0      0       0     0     0   0    0    0   \n",
      "4       0     0     0      0       0     0     0   0    0    0   \n",
      "\n",
      "   akamaitechnologies  amazonaws  ams15s51  arn001  arn04  arn09s18  arn09s19  \\\n",
      "0                   0          0         0       0      0         0         0   \n",
      "1                   0          0         0       0      0         0         0   \n",
      "2                   0          1         0       0      0         0         0   \n",
      "3                   0          1         0       0      0         0         0   \n",
      "4                   0          0         0       0      0         0         0   \n",
      "\n",
      "   arn09s20  arn09s21  arn09s22  arn09s23  arn09s25  arn09s26  arn09s27  arn1  \\\n",
      "0         0         0         0         0         0         0         0     0   \n",
      "1         0         0         0         0         0         0         0     0   \n",
      "2         0         0         0         0         0         0         0     0   \n",
      "3         0         0         0         0         0         0         0     0   \n",
      "4         0         0         0         0         0         0         0     0   \n",
      "\n",
      "   arn11s03  arn11s04  arn11s09  arn11s10  arn11s11  arn11s12  arn11s13  \\\n",
      "0         0         0         0         0         0         0         0   \n",
      "1         0         0         0         0         0         0         0   \n",
      "2         0         0         0         0         0         0         0   \n",
      "3         0         0         0         0         0         0         0   \n",
      "4         0         0         0         0         0         0         0   \n",
      "\n",
      "   arn11s14  arn2  arn54  arn56  bc  berlin  bkk03s02  c061  c062  c063  c066  \\\n",
      "0         0     0      0      0   0       0         0     0     0     0     0   \n",
      "1         0     0      0      0   0       0         0     0     0     0     0   \n",
      "2         0     0      0      0   0       0         0     0     0     0     0   \n",
      "3         0     0      0      0   0       0         0     0     0     0     0   \n",
      "4         0     0      0      0   0       0         0     0     0     0     0   \n",
      "\n",
      "   c069  c073  c081  c087  c090  c091  c093  c095  c097  c098  c099  c100  \\\n",
      "0     0     0     0     0     0     0     0     0     0     0     0     0   \n",
      "1     0     0     0     0     0     0     0     0     0     0     0     0   \n",
      "2     0     0     0     0     0     0     0     0     0     0     0     0   \n",
      "3     0     0     0     0     0     0     0     0     0     0     0     0   \n",
      "4     0     0     0     0     0     0     0     0     0     0     0     0   \n",
      "\n",
      "   c101  c102  c104  c105  c107  c108  c109  cdn  ced64c  ced690  ced6d0  \\\n",
      "0     0     0     0     0     0     0     0    0       0       0       0   \n",
      "1     0     0     0     0     0     0     0    0       0       0       0   \n",
      "2     0     0     0     0     0     0     0    0       0       0       0   \n",
      "3     0     0     0     0     0     0     0    0       0       0       0   \n",
      "4     0     0     0     0     0     0     0    0       0       0       0   \n",
      "\n",
      "   central  clients  cloudfront  com  compute  cph2  de  deploy  dfw25s48  \\\n",
      "0        0        0           0    0        0     0   0       0         0   \n",
      "1        0        0           0    0        0     0   0       0         0   \n",
      "2        1        0           0    1        1     0   0       0         0   \n",
      "3        1        0           0    1        1     0   0       0         0   \n",
      "4        0        0           0    0        0     0   0       0         0   \n",
      "\n",
      "   dgw  e2a  east  ec2  ed14  ed2  edge  eu  f1  f10  f13  f14  f163  f164  \\\n",
      "0    0    0     0    0     0    0     0   0   0    0    0    0     0     0   \n",
      "1    0    0     0    0     0    0     0   0   0    0    0    0     0     0   \n",
      "2    0    0     0    1     0    0     0   1   0    0    0    0     0     0   \n",
      "3    0    0     0    1     0    0     0   1   0    0    0    0     0     0   \n",
      "4    0    0     0    0     0    0     0   0   0    0    0    0     0     0   \n",
      "\n",
      "   f17  f188  f22  f3  f4  f6  f7  f8  f9  facebook  fbcdn  fra  fra07s64  \\\n",
      "0    0     0    0   0   0   0   0   0   0         0      0    0         0   \n",
      "1    0     0    0   0   0   0   0   0   0         0      0    0         0   \n",
      "2    0     0    0   0   0   0   0   0   0         0      0    0         0   \n",
      "3    0     0    0   0   0   0   0   0   0         0      0    0         0   \n",
      "4    0     0    0   0   0   0   0   0   0         0      0    0         0   \n",
      "\n",
      "   github  google  googleusercontent  iad23s94  iad30s43  in  info  instagram  \\\n",
      "0       0       0                  0         0         0   0     0          0   \n",
      "1       0       0                  0         0         0   0     0          0   \n",
      "2       0       0                  0         0         0   0     0          0   \n",
      "3       0       0                  0         0         0   0     0          0   \n",
      "4       0       0                  0         0         0   0     0          0   \n",
      "\n",
      "   ipv4  ix  jfk1  justin  kairos  lb  le  lt  mini  ms  msedge  muc03s13  \\\n",
      "0     0   0     0       0       0   0   0   0     0   0       0         0   \n",
      "1     0   0     0       0       0   0   0   0     0   0       0         0   \n",
      "2     0   0     0       0       0   0   0   0     0   0       0         0   \n",
      "3     0   0     0       0       0   0   0   0     0   0       0         0   \n",
      "4     0   0     0       0       0   0   0   0     0   0       0         0   \n",
      "\n",
      "   net  nflxvideo  north  oca  p3  p42  sdr1  se  server  shv  star  static  \\\n",
      "0    0          0      0    0   0    0     0   0       0    0     0       0   \n",
      "1    0          0      0    0   0    0     0   0       0    0     0       0   \n",
      "2    0          0      0    0   0    0     0   0       0    0     0       0   \n",
      "3    0          0      0    0   0    0     0   0       0    0     0       0   \n",
      "4    0          0      0    0   0    0     0   0       0    0     0       0   \n",
      "\n",
      "   svt  syd15s05  travel  tv  us  valve  video  west  xx  your  AIBV  AKAMAI  \\\n",
      "0    0         0       0   0   0      0      0     0   0     0     0       0   \n",
      "1    0         0       0   0   0      0      0     0   0     0     0       0   \n",
      "2    0         0       0   0   0      0      0     0   0     0     0       0   \n",
      "3    0         0       0   0   0      0      0     0   0     0     0       0   \n",
      "4    0         0       0   0   0      0      0     0   0     0     0       0   \n",
      "\n",
      "   AKAMAI-PA  AMAZO-CF  AMAZO-ZFRA  AMAZO-ZL4  AMAZO-ZPDX  AMAZO-ZPDX8  \\\n",
      "0          0         0           0          0           0            0   \n",
      "1          0         0           0          0           0            0   \n",
      "2          0         0           0          0           0            0   \n",
      "3          0         0           0          0           0            0   \n",
      "4          0         0           0          0           0            0   \n",
      "\n",
      "   AMAZO-ZPDX9  AMAZON  AMAZON-ARN  AMAZON-CF  AMAZON-DUB  AMAZON-FRA  \\\n",
      "0            0       0           0          0           0           0   \n",
      "1            0       0           0          0           0           0   \n",
      "2            0       0           0          0           0           1   \n",
      "3            0       0           0          0           0           1   \n",
      "4            0       0           0          0           0           0   \n",
      "\n",
      "   AMAZON-IAD  AMAZON-LHR  AT-88-Z  CLOUDFLARENET  DE-HETZNER-20010209  \\\n",
      "0           0           0        0              0                    0   \n",
      "1           0           0        0              0                    0   \n",
      "2           0           0        0              0                    0   \n",
      "3           0           0        0              0                    0   \n",
      "4           0           0        0              0                    0   \n",
      "\n",
      "   ECN-NETWORK  EDGECAST-NETBLK-04  EDGECAST-NETBLK-08  EU-VC-IP4-7  GITHU  \\\n",
      "0            0                   0                   0            0      0   \n",
      "1            0                   0                   0            0      0   \n",
      "2            0                   0                   0            0      0   \n",
      "3            0                   0                   0            0      0   \n",
      "4            0                   0                   0            0      0   \n",
      "\n",
      "   GOOGL-2  GOOGLE  IE-FACEBOOK-20110418  LC-ORG-ARIN-BLK3  MICROSOFT  MSFT  \\\n",
      "0        0       0                     0                 0          0     1   \n",
      "1        0       0                     0                 0          0     1   \n",
      "2        0       0                     0                 0          0     0   \n",
      "3        0       0                     0                 0          0     0   \n",
      "4        0       0                     0                 0          0     1   \n",
      "\n",
      "   NETFLIX-SS-3  PACKET-NET-192-20  SE-AKAMAI  SKYCA-3  SS-CDN-4  \\\n",
      "0             0                  0          0        0         0   \n",
      "1             0                  0          0        0         0   \n",
      "2             0                  0          0        0         0   \n",
      "3             0                  0          0        0         0   \n",
      "4             0                  0          0        0         0   \n",
      "\n",
      "   SVT-DIST-101  SVT-DIST-103  THEFA-3  TWITCH  VALVE-L1  VALVE-V4-6  VC-AP  \\\n",
      "0             0             0        0       0         0           0      0   \n",
      "1             0             0        0       0         0           0      0   \n",
      "2             0             0        0       0         0           0      0   \n",
      "3             0             0        0       0         0           0      0   \n",
      "4             0             0        0       0         0           0      0   \n",
      "\n",
      "   DE  GB  IE  NL  SE  SG  US  \n",
      "0   0   0   0   0   0   0   1  \n",
      "1   0   0   0   0   0   0   1  \n",
      "2   0   0   0   0   0   0   1  \n",
      "3   0   0   0   0   0   0   1  \n",
      "4   0   0   0   0   0   0   1  \n"
     ]
    }
   ],
   "source": [
    "dataDropped = data.copy()\n",
    "\n",
    "attributesToDrop = [\"Id\" ,\"Domain Name\", \"Flows\", \"Datetime\", \"Host Port\", \"Src IP Addr\", \"Dst IP Addr\", \"Client IP\", \"Host IP\", \"Src Port\", \"Dst Port\"]\n",
    "dataDropped = dataDropped.drop(attributesToDrop, axis=1)"
   ]
  },
  {
   "cell_type": "code",
   "execution_count": null,
   "metadata": {},
   "outputs": [],
   "source": [
    "printRow(dataDropped, id)"
   ]
  },
  {
   "cell_type": "markdown",
   "metadata": {},
   "source": [
    "## Convert Service label into integer"
   ]
  },
  {
   "cell_type": "code",
   "execution_count": null,
   "metadata": {},
   "outputs": [],
   "source": [
    "dataNumLabel = dataDropped.copy()\n",
    "\n",
    "n = dataNumLabel[\"Label\"].value_counts()\n",
    "print(n)\n",
    "\n",
    "LABELS_DICT = {}\n",
    "for i in range(len(n)):\n",
    "    LABELS_DICT[n.index.tolist()[i]] = i\n",
    "print()\n",
    "print(\"LABELS AND CORRESPONDING NUMBER:\")\n",
    "for key,val in LABELS_DICT.items():\n",
    "    print(f\"{val}\\t{key}\")\n"
   ]
  },
  {
   "cell_type": "markdown",
   "metadata": {},
   "source": [
    "#### Conversion functions for labels"
   ]
  },
  {
   "cell_type": "code",
   "execution_count": null,
   "metadata": {},
   "outputs": [],
   "source": [
    "def label2num(label):\n",
    "    return(LABELS_DICT[label])\n",
    "def num2label(num):\n",
    "    return next((key for key, val in LABELS_DICT.items() if val == num), None)"
   ]
  },
  {
   "cell_type": "markdown",
   "metadata": {},
   "source": [
    "## Split the data from the labels"
   ]
  },
  {
   "cell_type": "code",
   "execution_count": null,
   "metadata": {},
   "outputs": [],
   "source": [
    "X = dataNumLabel.drop(\"Label\", axis = 1).to_numpy()\n",
    "Y = dataNumLabel[\"Label\"].apply(label2num).to_numpy() #translate label to corresponding integer"
   ]
  },
  {
   "cell_type": "markdown",
   "metadata": {},
   "source": [
    "### Trainging data and Testing data split & convert into tensor"
   ]
  },
  {
   "cell_type": "code",
   "execution_count": null,
   "metadata": {},
   "outputs": [],
   "source": [
    "# TRAIN TEST SPLIT\n",
    "Xtrain, Xtest, Ytrain, Ytest = train_test_split(X, Y, test_size=0.2, random_state=13)\n",
    " \n",
    "# TO TENSOR\n",
    "Xtrain = torch.tensor(Xtrain, dtype=torch.float32)\n",
    "Ytrain = torch.tensor(Ytrain, dtype=torch.long)\n",
    "Xtest = torch.tensor(Xtest, dtype=torch.float32)\n",
    "Ytest = torch.tensor(Ytest, dtype=torch.long)"
   ]
  },
  {
   "cell_type": "markdown",
   "metadata": {},
   "source": [
    "## THE NETWORK"
   ]
  },
  {
   "cell_type": "code",
   "execution_count": null,
   "metadata": {},
   "outputs": [],
   "source": [
    "# NETWORK CLASS\n",
    "class Net(nn.Module):\n",
    "    def __init__(self, input_size, h1, h2, h3, h4, output_size):\n",
    "        super(Net, self).__init__()\n",
    "        dropoutrate = 0.5\n",
    "        self.fc1 = nn.Linear(input_size, h1)\n",
    "        self.relu1 = nn.ReLU()\n",
    "        self.dropout1 = nn.Dropout(dropoutrate)\n",
    "\n",
    "        self.fc2 = nn.Linear(h1, h2)\n",
    "        self.relu2 = nn.ReLU()\n",
    "\n",
    "        self.fc3 = nn.Linear(h2, h3)\n",
    "        self.relu3 = nn.ReLU()\n",
    "        self.dropout2 = nn.Dropout(dropoutrate)\n",
    "\n",
    "        self.fc4 = nn.Linear(h3, h4)\n",
    "        self.relu4 = nn.ReLU()\n",
    "\n",
    "        self.fc5 = nn.Linear(h4, output_size)\n",
    "\n",
    "    def forward(self, x):\n",
    "        x = self.fc1(x)\n",
    "        x = self.relu1(x)\n",
    "        x = self.dropout1(x)\n",
    "\n",
    "        x = self.fc2(x)\n",
    "        x = self.relu2(x)\n",
    "\n",
    "        x = self.fc3(x)\n",
    "        x = self.relu3(x)\n",
    "        x = self.dropout2(x)\n",
    "\n",
    "        x = self.fc4(x)\n",
    "        x = self.relu4(x)\n",
    "\n",
    "        x = self.fc5(x)\n",
    "        return x"
   ]
  },
  {
   "cell_type": "markdown",
   "metadata": {},
   "source": [
    "### Create model"
   ]
  },
  {
   "cell_type": "code",
   "execution_count": null,
   "metadata": {},
   "outputs": [],
   "source": [
    "# NETWORK LAYER SIZES\n",
    "input_size = X.shape[1]\n",
    "h1 = 200\n",
    "h2 = 150\n",
    "h3 = 100\n",
    "h4 = 50\n",
    "output_size = len(LABELS_DICT)\n",
    "\n",
    "# CREATE NEURAL NETWORK MODEL\n",
    "model = Net(input_size, h1, h2, h3, h4, output_size)\n",
    "\n",
    "# LOSS & EVALUATION\n",
    "criterion = nn.CrossEntropyLoss()\n",
    "optimizer = optim.Adam(model.parameters(), lr = 0.001) #create optimizer"
   ]
  },
  {
   "cell_type": "markdown",
   "metadata": {},
   "source": [
    "## TRAINING"
   ]
  },
  {
   "cell_type": "code",
   "execution_count": null,
   "metadata": {},
   "outputs": [],
   "source": [
    "# TRAINING\n",
    "num_epochs = 500\n",
    "for epoch in range(num_epochs):\n",
    "    outputs = model(Xtrain) #Prediction\n",
    "    loss = criterion(outputs, Ytrain) #Loss calculation\n",
    "\n",
    "    optimizer.zero_grad() #reset optimizer gradient\n",
    "    loss.backward() # bakåt ?\n",
    "    optimizer.step() # uppdatera vikter\n",
    "\n",
    "    print(f'Epoch [{epoch+1}/{num_epochs}], Loss: {loss.item()}')"
   ]
  },
  {
   "cell_type": "markdown",
   "metadata": {},
   "source": [
    "### Accuracy print"
   ]
  },
  {
   "cell_type": "code",
   "execution_count": null,
   "metadata": {},
   "outputs": [],
   "source": [
    "# PRINT ACCURACY\n",
    "with torch.no_grad():\n",
    "    model.eval()\n",
    "    outputs_test = model(Xtest)\n",
    "    predicted_labels = torch.argmax(outputs_test, dim=1)\n",
    "    acc = torch.sum(predicted_labels == Ytest).item() / len(Ytest)\n",
    "    print(f\"Test Accuracy: {acc}\")"
   ]
  },
  {
   "cell_type": "markdown",
   "metadata": {},
   "source": [
    "## Export Model !"
   ]
  },
  {
   "cell_type": "code",
   "execution_count": null,
   "metadata": {},
   "outputs": [],
   "source": [
    "# export model weights here"
   ]
  }
 ],
 "metadata": {
  "kernelspec": {
   "display_name": "Linusenv",
   "language": "python",
   "name": "python3"
  },
  "language_info": {
   "codemirror_mode": {
    "name": "ipython",
    "version": 3
   },
   "file_extension": ".py",
   "mimetype": "text/x-python",
   "name": "python",
   "nbconvert_exporter": "python",
   "pygments_lexer": "ipython3",
   "version": "3.9.7"
  }
 },
 "nbformat": 4,
 "nbformat_minor": 2
}
