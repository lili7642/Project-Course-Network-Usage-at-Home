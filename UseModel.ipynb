{
 "cells": [
  {
   "cell_type": "code",
   "execution_count": 7,
   "metadata": {},
   "outputs": [],
   "source": [
    "import os\n",
    "import pandas as pd\n",
    "import numpy as np\n",
    "\n",
    "import torch\n",
    "import torch.nn as nn\n",
    "import torch.optim as optim\n",
    "\n",
    "from modelClass import Net"
   ]
  },
  {
   "cell_type": "markdown",
   "metadata": {},
   "source": [
    "### Load training data columns"
   ]
  },
  {
   "cell_type": "code",
   "execution_count": 9,
   "metadata": {},
   "outputs": [
    {
     "name": "stdout",
     "output_type": "stream",
     "text": [
      "['Label', 'Duration', 'Packets', 'Bytes', 'IGMP', 'TCP', 'UDP', '0', '1900', '22222', '27018', '27025', '27036', '27043', '27047', '27051', '27053', '27057', '27060', '3478', '3480', '34820', '3702', '4070', '44142', '443', '50002', '50012', '50022', '50027', '5228', '5353', '5355', '67', '80', '8009', '1drv', '1.00E+100', '82f3dc', '833aec', 'a104', 'a184', 'a2', 'a23', 'a95', 'aa784e235de7c8b14', 'adobedc', 'akamaitechnologies', 'all', 'amazonaws', 'ams', 'ams1', 'ams15s47', 'ams15s51', 'ams17s02', 'ams17s04', 'ams17s13', 'ams17s17', 'ams58', 'andreas', 'arn', 'arn001', 'arn04', 'arn09s18', 'arn09s19', 'arn09s20', 'arn09s21', 'arn09s22', 'arn09s23', 'arn09s25', 'arn09s26', 'arn09s27', 'arn1', 'arn11s03', 'arn11s04', 'arn11s09', 'arn11s10', 'arn11s11', 'arn11s12', 'arn11s13', 'arn11s14', 'arn2', 'arn54', 'arn56', 'awsglobalaccelerator', 'bc', 'berlin', 'betterttv', 'bkk03s02', 'bl', 'bunnyinfra', 'c061', 'c062', 'c063', 'c064', 'c066', 'c069', 'c073', 'c076', 'c078', 'c079', 'c081', 'c082', 'c083', 'c084', 'c085', 'c086', 'c087', 'c089', 'c090', 'c091', 'c093', 'c094', 'c095', 'c096', 'c097', 'c098', 'c099', 'c100', 'c101', 'c102', 'c103', 'c104', 'c105', 'c107', 'c108', 'c109', 'c110', 'cdn', 'cds260', 'cds456', 'cds822', 'cds848', 'ced348', 'ced64c', 'ced690', 'ced6a0', 'ced6d0', 'ced7f4', 'central', 'clients', 'cloudfront', 'com', 'compute', 'cph2', 'data', 'dc', 'de', 'deploy', 'dfw25s48', 'dgw', 'dittrich', 'e2a', 'e37', 'east', 'ec2', 'ed0', 'ed13', 'ed14', 'ed2', 'edge', 'elektroroyal', 'eu', 'ev', 'f1', 'f10', 'f101', 'f113', 'f13', 'f138', 'f14', 'f163', 'f164', 'f17', 'f170', 'f188', 'f19', 'f2', 'f22', 'f27', 'f3', 'f4', 'f6', 'f7', 'f8', 'f84', 'f9', 'f94', 'facebook', 'fbcdn', 'forum', 'fra', 'fra07s64', 'fra16s58', 'fra16s61', 'fra60', 'github', 'google', 'googleusercontent', 'gru10s11', 'hkg12s26', 'https', 'iad23s04', 'iad23s94', 'iad30s43', 'identrust', 'igmp', 'in', 'info', 'instagram', 'ip', 'ipv4', 'ix', 'jfk1', 'justin', 'kairos', 'kul09s13', 'lb', 'le', 'lf', 'lg', 'li', 'lk', 'llnw', 'lo', 'lq', 'lr', 'lt', 'lu', 'maa05s26', 'mail', 'main', 'mcast', 'mdns', 'mil04s51', 'mini', 'ms', 'msedge', 'muc03s13', 'mysnip', 'net', 'netonnet', 'nflxvideo', 'no600', 'north', 'ns3048892', 'oca', 'olio', 'org', 'p3', 'p42', 'portsit', 'redirect', 'routers', 'sdr1', 'se', 'server', 'server1', 'shv', 'sockets', 'star', 'static', 'sto', 'svn', 'svt', 'syd15s05', 'tbcn', 'telia', 'travel', 'tv', 'us', 'valve', 'vergic', 'video', 'web03', 'west', 'www', 'xx', 'ym', 'your', 'yul03s05', 'AIBV', 'AKAMAI', 'AKAMAI-PA', 'AMAZO-CF', 'AMAZO-ZDUB4', 'AMAZO-ZFRA', 'AMAZO-ZIAD4', 'AMAZO-ZL4', 'AMAZO-ZPDX', 'AMAZO-ZPDX2', 'AMAZO-ZPDX3', 'AMAZO-ZPDX4', 'AMAZO-ZPDX6', 'AMAZO-ZPDX8', 'AMAZO-ZPDX9', 'AMAZON', 'AMAZON-2011L', 'AMAZON-ARN', 'AMAZON-CF', 'AMAZON-DUB', 'AMAZON-EC2-8', 'AMAZON-FRA', 'AMAZON-IAD', 'AMAZON-LHR', 'AMAZON-ZPDX', 'AS-CLOUD-ENGINEERING', 'AT-88-Z', 'AUTOMATTIC', 'BLS-68-219-0-0-1003020945', 'CDN77-STOCKHOLM-2', 'CLOUDFLARENET', 'CLOUDFLARENET-EU', 'DE-HETZNER-20010209', 'ECN-NETWORK', 'EDGECAST-NETBLK-04', 'EDGECAST-NETBLK-08', 'EU-VC-IP4-7', 'GITHU', 'GOOGL-2', 'GOOGLE', 'GOOGLE-CLOUD', 'IE-FACEBOOK-20110418', 'INCAPSULA-NET', 'LC-ORG-ARIN-BLK3', 'LVLT-ORG-8-8', 'MICROSOFT', 'MSFT', 'NETFLIX-SS-3', 'NON-NET', 'NVIDIA-NGN-GB', 'OVH-ARIN-7', 'PACKET-NET-192-20', 'SD-ERI-lon1-eri1-sdagg30ab-n93-2-2', 'SE-AKAMAI', 'SE-BEEBYTE-20190313', 'SE-Cygate-DC-CUSTOMERS', 'SE-GLE-RIPE-20101103', 'SE-PORTS-NET2', 'SKYCA-3', 'SLC-IP-ADDRESS-RANGES', 'SS-CDN-4', 'SVT-DIST-101', 'SVT-DIST-103', 'TELIANET', 'THEFA-3', 'TWITCH', 'US-GITHUB-20170413', 'US-LLNW-20050822', 'US-LLNW-20090402', 'US-LLNW-20100512', 'VALVE-L1', 'VALVE-V4-6', 'VC-AP', 'VZ', 'discord-sesto2-1', 'CA', 'DE', 'FR', 'GB', 'IE', 'NL', 'SE', 'SG', 'US']\n"
     ]
    }
   ],
   "source": [
    "filePath =  \"../../project_course_data/\"\n",
    "\n",
    "colNamesPath = \"dataColNames.txt\"\n",
    "\n",
    "with open(filePath + colNamesPath, \"r\") as f:\n",
    "    columns = [str(line.strip()) for line in f]\n",
    "\n",
    "print(columns)\n"
   ]
  },
  {
   "cell_type": "code",
   "execution_count": null,
   "metadata": {},
   "outputs": [],
   "source": [
    "# Load labels dictionary"
   ]
  },
  {
   "cell_type": "code",
   "execution_count": null,
   "metadata": {},
   "outputs": [],
   "source": [
    "# NETWORK LAYER SIZES\n",
    "input_size = len(columns) - 1\n",
    "h1 = 4000\n",
    "h2 = 1000\n",
    "h3 = 500\n",
    "h4 = 100\n",
    "output_size = len(LABELS_DICT)"
   ]
  },
  {
   "cell_type": "code",
   "execution_count": 8,
   "metadata": {},
   "outputs": [
    {
     "ename": "TypeError",
     "evalue": "__init__() missing 6 required positional arguments: 'input_size', 'h1', 'h2', 'h3', 'h4', and 'output_size'",
     "output_type": "error",
     "traceback": [
      "\u001b[1;31m---------------------------------------------------------------------------\u001b[0m",
      "\u001b[1;31mTypeError\u001b[0m                                 Traceback (most recent call last)",
      "Input \u001b[1;32mIn [8]\u001b[0m, in \u001b[0;36m<cell line: 6>\u001b[1;34m()\u001b[0m\n\u001b[0;32m      3\u001b[0m filePath \u001b[38;5;241m=\u001b[39m  \u001b[38;5;124m\"\u001b[39m\u001b[38;5;124m../../project_course_data/\u001b[39m\u001b[38;5;124m\"\u001b[39m\n\u001b[0;32m      4\u001b[0m modelWeights \u001b[38;5;241m=\u001b[39m \u001b[38;5;124m\"\u001b[39m\u001b[38;5;124mmodelWeights.pth\u001b[39m\u001b[38;5;124m\"\u001b[39m\n\u001b[1;32m----> 6\u001b[0m model \u001b[38;5;241m=\u001b[39m \u001b[43mNet\u001b[49m\u001b[43m(\u001b[49m\u001b[43m)\u001b[49m\n\u001b[0;32m      8\u001b[0m model\u001b[38;5;241m.\u001b[39mload_state_dict(torch\u001b[38;5;241m.\u001b[39mload(filePath \u001b[38;5;241m+\u001b[39m modelWeights))\n",
      "\u001b[1;31mTypeError\u001b[0m: __init__() missing 6 required positional arguments: 'input_size', 'h1', 'h2', 'h3', 'h4', and 'output_size'"
     ]
    }
   ],
   "source": [
    "# Import trained model weights\n",
    "\n",
    "\n",
    "modelWeights = \"modelWeights.pth\"\n",
    "\n",
    "model = Net()\n",
    "\n",
    "model.load_state_dict(torch.load(filePath + modelWeights))"
   ]
  }
 ],
 "metadata": {
  "kernelspec": {
   "display_name": "Linusenv",
   "language": "python",
   "name": "python3"
  },
  "language_info": {
   "codemirror_mode": {
    "name": "ipython",
    "version": 3
   },
   "file_extension": ".py",
   "mimetype": "text/x-python",
   "name": "python",
   "nbconvert_exporter": "python",
   "pygments_lexer": "ipython3",
   "version": "3.9.7"
  }
 },
 "nbformat": 4,
 "nbformat_minor": 2
}
